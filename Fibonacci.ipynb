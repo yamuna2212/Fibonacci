{
 "cells": [
  {
   "cell_type": "markdown",
   "id": "21fbf6ab",
   "metadata": {},
   "source": [
    "## 1.Lets play with Fibonacci"
   ]
  },
  {
   "cell_type": "code",
   "execution_count": 6,
   "id": "5c1c97ff",
   "metadata": {},
   "outputs": [
    {
     "name": "stdout",
     "output_type": "stream",
     "text": [
      "enter number:10\n",
      "1 1 2 3 5 8 13 21 34 55 "
     ]
    }
   ],
   "source": [
    "k=int(input(\"enter number:\"))\n",
    "a=0\n",
    "b=1\n",
    "c=1\n",
    "while c<=k:\n",
    "    print(b,end=\" \")\n",
    "    a,b=b,a+b\n",
    "    c+=1"
   ]
  },
  {
   "cell_type": "markdown",
   "id": "506a2c24",
   "metadata": {},
   "source": [
    "### smaple output:\n",
    "         enter number:10\n",
    "         1 1 2 3 5 8 13 21 34 55 \n"
   ]
  }
 ],
 "metadata": {
  "kernelspec": {
   "display_name": "Python 3 (ipykernel)",
   "language": "python",
   "name": "python3"
  },
  "language_info": {
   "codemirror_mode": {
    "name": "ipython",
    "version": 3
   },
   "file_extension": ".py",
   "mimetype": "text/x-python",
   "name": "python",
   "nbconvert_exporter": "python",
   "pygments_lexer": "ipython3",
   "version": "3.10.1"
  }
 },
 "nbformat": 4,
 "nbformat_minor": 5
}
